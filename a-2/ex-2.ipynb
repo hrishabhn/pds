{
 "cells": [
  {
   "cell_type": "markdown",
   "metadata": {},
   "source": [
    "# Exercise 2: Basic Data Filtering\n",
    "\n",
    "1. **Create a List of Mixed Data Types**: Create a list that contains a mix of integers, strings, and floats.\n",
    "2. **Filter the List**: Use list comprehension to create a new list that contains only the integers from the original list.\n",
    "3. **Print the New List**: Output the filtered list of integers.\n"
   ]
  },
  {
   "cell_type": "code",
   "execution_count": 1,
   "metadata": {},
   "outputs": [
    {
     "data": {
      "text/plain": [
       "[1, 7, 11, 13, 17, 19]"
      ]
     },
     "execution_count": 1,
     "metadata": {},
     "output_type": "execute_result"
    }
   ],
   "source": [
    "# FizzBuzz list\n",
    "# Odd numbers are integers\n",
    "# Even numbers are floats\n",
    "\n",
    "list = [\n",
    "    1,\n",
    "    2.0,\n",
    "    \"Fizz\",\n",
    "    4.0,\n",
    "    \"Buzz\",\n",
    "    \"Fizz\",\n",
    "    7,\n",
    "    8.0,\n",
    "    \"Fizz\",\n",
    "    \"Buzz\",\n",
    "    11,\n",
    "    \"Fizz\",\n",
    "    13,\n",
    "    14.0,\n",
    "    \"FizzBuzz\",\n",
    "    16.0,\n",
    "    17,\n",
    "    \"Fizz\",\n",
    "    19,\n",
    "    \"Buzz\",\n",
    "]\n",
    "\n",
    "list_integers = [x for x in list if isinstance(x, int)]\n",
    "list_integers"
   ]
  }
 ],
 "metadata": {
  "kernelspec": {
   "display_name": "Python 3",
   "language": "python",
   "name": "python3"
  },
  "language_info": {
   "codemirror_mode": {
    "name": "ipython",
    "version": 3
   },
   "file_extension": ".py",
   "mimetype": "text/x-python",
   "name": "python",
   "nbconvert_exporter": "python",
   "pygments_lexer": "ipython3",
   "version": "3.12.6"
  }
 },
 "nbformat": 4,
 "nbformat_minor": 2
}
