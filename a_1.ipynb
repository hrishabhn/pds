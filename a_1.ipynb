{
 "cells": [
  {
   "cell_type": "markdown",
   "metadata": {},
   "source": [
    "### Exercise 1: Print a Greeting\n",
    "\n",
    "- Write a Python program that prints a greeting message, such as \"Hello, Python!\".\n"
   ]
  },
  {
   "cell_type": "code",
   "execution_count": 28,
   "metadata": {},
   "outputs": [
    {
     "name": "stdout",
     "output_type": "stream",
     "text": [
      "Hello, Python!\n"
     ]
    }
   ],
   "source": [
    "print('Hello, Python!')"
   ]
  },
  {
   "cell_type": "markdown",
   "metadata": {},
   "source": [
    "### Exercise 2: Basic Arithmetic\n",
    "\n",
    "- Create a program that:\n",
    "  - Defines two variables, a and b, with numerical values.\n",
    "  - Prints their sum, difference, product, and quotient.\n"
   ]
  },
  {
   "cell_type": "code",
   "execution_count": 29,
   "metadata": {},
   "outputs": [
    {
     "name": "stdout",
     "output_type": "stream",
     "text": [
      "Sum: 5\n",
      "Difference: 1\n",
      "Product: 6\n",
      "Quotient: 1.5\n"
     ]
    }
   ],
   "source": [
    "a = 3\n",
    "b = 2\n",
    "\n",
    "print('Sum:', a + b)\n",
    "print('Difference:', a - b)\n",
    "print('Product:', a * b)\n",
    "print('Quotient:', a / b)"
   ]
  },
  {
   "cell_type": "markdown",
   "metadata": {},
   "source": [
    "### Exercise 3: String Manipulation\n",
    "\n",
    "- Define a variable name and assign it your name.\n",
    "- Write a program that prints a message saying \"Hello, [name]!\" where [name] is the value of the variable.\n"
   ]
  },
  {
   "cell_type": "code",
   "execution_count": 30,
   "metadata": {},
   "outputs": [
    {
     "name": "stdout",
     "output_type": "stream",
     "text": [
      "Hello, Hrishabh!\n"
     ]
    }
   ],
   "source": [
    "name = 'Hrishabh'\n",
    "\n",
    "print(f'Hello, {name}!')"
   ]
  },
  {
   "cell_type": "markdown",
   "metadata": {},
   "source": [
    "### Exercise 4: Lists\n",
    "\n",
    "- Create a list called universities with at least five different university names.\n",
    "- Print the entire list.\n",
    "- Print the first and last university in the list.\n"
   ]
  },
  {
   "cell_type": "code",
   "execution_count": 31,
   "metadata": {},
   "outputs": [
    {
     "name": "stdout",
     "output_type": "stream",
     "text": [
      "All universities: ['ESADE', 'UAB', 'UIB', 'UOC', 'IE']\n",
      "First: ESADE\n",
      "Last: IE\n"
     ]
    }
   ],
   "source": [
    "universities = ['ESADE', 'UAB', 'UIB', 'UOC', 'IE']\n",
    "\n",
    "print('All universities:', universities)\n",
    "print('First:', universities[0])\n",
    "print('Last:', universities[-1])"
   ]
  },
  {
   "cell_type": "markdown",
   "metadata": {},
   "source": [
    "### Exercise 5: Dictionaries\n",
    "\n",
    "- Create a dictionary called student with keys: name, age, and grade, and assign appropriate values to each key.\n",
    "- Write a program that prints each key-value pair in the dictionary.\n"
   ]
  },
  {
   "cell_type": "code",
   "execution_count": 32,
   "metadata": {},
   "outputs": [
    {
     "name": "stdout",
     "output_type": "stream",
     "text": [
      "name: Hrishabh\n",
      "age: 23\n",
      "grade: 100\n"
     ]
    }
   ],
   "source": [
    "student = {\n",
    "    'name': 'Hrishabh',\n",
    "    'age': 23,\n",
    "    'grade': 100,\n",
    "}\n",
    "\n",
    "for key, value in student.items():\n",
    "    print(f'{key}: {value}')"
   ]
  },
  {
   "cell_type": "markdown",
   "metadata": {},
   "source": [
    "### Exercise 6: Tuples\n",
    "\n",
    "- Define a tuple called coordinates with two values representing a point in 2D space (e.g., (x, y)).\n",
    "- Print the value of coordinates and access each element by its index.\n"
   ]
  },
  {
   "cell_type": "code",
   "execution_count": 33,
   "metadata": {},
   "outputs": [
    {
     "name": "stdout",
     "output_type": "stream",
     "text": [
      "Coordinates: (3, 2)\n",
      "X: 3\n",
      "Y: 2\n"
     ]
    }
   ],
   "source": [
    "coordinates = (3, 2)\n",
    "\n",
    "print('Coordinates:', coordinates)\n",
    "print('X:', coordinates[0])\n",
    "print('Y:', coordinates[1])"
   ]
  },
  {
   "cell_type": "markdown",
   "metadata": {},
   "source": [
    "### Exercise 7: Sets\n",
    "\n",
    "- Create a set called colors with the values: \"red\", \"green\", \"blue\".\n",
    "- Add another color to the set.\n",
    "- Try adding a duplicate color and observe what happens.\n",
    "- Print the set and remove one color from it.\n",
    "- Create another set named light_colors and merge colors and light_colors.\n"
   ]
  },
  {
   "cell_type": "code",
   "execution_count": 34,
   "metadata": {},
   "outputs": [
    {
     "name": "stdout",
     "output_type": "stream",
     "text": [
      "Set: {'blue', 'green', 'yellow', 'red'}\n",
      "Updated Set: {'light_blue', 'green', 'light_red', 'blue', 'light_green', 'red'}\n"
     ]
    }
   ],
   "source": [
    "colors = {'red', 'green', 'blue'}\n",
    "colors.add('yellow')\n",
    "colors.add('red')\n",
    "\n",
    "print('Set:', colors)\n",
    "\n",
    "colors.remove('yellow')\n",
    "light_colors = {'light_red', 'light_green', 'light_blue'}\n",
    "colors.update(light_colors)\n",
    "\n",
    "print('Updated Set:', colors)"
   ]
  },
  {
   "cell_type": "markdown",
   "metadata": {},
   "source": [
    "### Exercise 8: Conditional Statements\n",
    "\n",
    "- Write a program that:\n",
    "  - Takes an input number from the user.\n",
    "  - Checks if the number is positive, negative, or zero.\n",
    "  - Prints an appropriate message based on the result.\n"
   ]
  },
  {
   "cell_type": "code",
   "execution_count": 35,
   "metadata": {},
   "outputs": [
    {
     "name": "stdout",
     "output_type": "stream",
     "text": [
      "Number: 3\n",
      "Positive\n"
     ]
    }
   ],
   "source": [
    "number = int(input('Enter a number: '))\n",
    "\n",
    "print('Number:', number)\n",
    "\n",
    "if number > 0:\n",
    "    print('Positive')\n",
    "elif number < 0:\n",
    "    print('Negative')\n",
    "else:\n",
    "    print('Zero')"
   ]
  },
  {
   "cell_type": "markdown",
   "metadata": {},
   "source": [
    "### Exercise 9: For Loop\n",
    "\n",
    "- Create a list of numbers from 1 to 5.\n",
    "- Use a for loop to iterate through the list and print each number.\n"
   ]
  },
  {
   "cell_type": "code",
   "execution_count": 36,
   "metadata": {},
   "outputs": [
    {
     "name": "stdout",
     "output_type": "stream",
     "text": [
      "1\n",
      "2\n",
      "3\n",
      "4\n",
      "5\n"
     ]
    }
   ],
   "source": [
    "numbers = list(range(1, 6))\n",
    "\n",
    "for number in numbers:\n",
    "    print(number)"
   ]
  },
  {
   "cell_type": "markdown",
   "metadata": {},
   "source": [
    "### Exercise 10: While Loop\n",
    "\n",
    "- Write a program that uses a while loop to print numbers from 1 to 5.\n",
    "- Ensure the loop terminates correctly.\n"
   ]
  },
  {
   "cell_type": "code",
   "execution_count": 37,
   "metadata": {},
   "outputs": [
    {
     "name": "stdout",
     "output_type": "stream",
     "text": [
      "1\n",
      "2\n",
      "3\n",
      "4\n",
      "5\n"
     ]
    }
   ],
   "source": [
    "i = 0\n",
    "\n",
    "while i < 5:\n",
    "    i += 1\n",
    "    print(i)"
   ]
  },
  {
   "cell_type": "markdown",
   "metadata": {},
   "source": [
    "### Exercise 11: Match Statement\n",
    "\n",
    "- Write a program that:\n",
    "  - Asks the user to input a grade (e.g., \"A\", \"B\", \"C\", \"D\", or \"F\").\n",
    "  - Use a match statement to print a corresponding message for each grade:\n",
    "    - \"A\": \"Excellent!\"\n",
    "    - \"B\": \"Good job!\"\n",
    "    - \"C\": \"Fair.\"\n",
    "    - \"D\": \"Needs improvement.\"\n",
    "    - \"F\": \"Failing.\"\n",
    "  - Handle invalid input by printing a default message.\n"
   ]
  },
  {
   "cell_type": "code",
   "execution_count": 38,
   "metadata": {},
   "outputs": [
    {
     "name": "stdout",
     "output_type": "stream",
     "text": [
      "Excellent!\n"
     ]
    }
   ],
   "source": [
    "grades = {\n",
    "    'A': 'Excellent!',\n",
    "    'B': 'Good job!',\n",
    "    'C': 'Fair.',\n",
    "    'D': 'Needs improvement.',\n",
    "    'F': 'Failing.',\n",
    "}\n",
    "\n",
    "user_grade = input('Enter your grade: ')\n",
    "\n",
    "print(grades.get(user_grade, 'Invalid input!'))"
   ]
  },
  {
   "cell_type": "markdown",
   "metadata": {},
   "source": [
    "### Exercise 12: Define a Function\n",
    "\n",
    "- Write a function called greet that takes a name as an argument and prints \"Hello, [name]!\".\n",
    "- Call the function with your own name.\n"
   ]
  },
  {
   "cell_type": "code",
   "execution_count": 39,
   "metadata": {},
   "outputs": [
    {
     "name": "stdout",
     "output_type": "stream",
     "text": [
      "Hello, Hrishabh!\n"
     ]
    }
   ],
   "source": [
    "def greet(name):\n",
    "    print(f'Hello, {name}!')\n",
    "\n",
    "\n",
    "greet('Hrishabh')"
   ]
  },
  {
   "cell_type": "markdown",
   "metadata": {},
   "source": [
    "### Exercise 13: Function with Return Value\n",
    "\n",
    "- Define a function called square that takes a number as an argument and returns its square.\n",
    "- Print the result of calling this function with different numbers.\n"
   ]
  },
  {
   "cell_type": "code",
   "execution_count": 40,
   "metadata": {},
   "outputs": [
    {
     "name": "stdout",
     "output_type": "stream",
     "text": [
      "1\n",
      "4\n",
      "9\n"
     ]
    }
   ],
   "source": [
    "def square(number):\n",
    "    return number ** 2\n",
    "\n",
    "\n",
    "print(square(1))\n",
    "print(square(2))\n",
    "print(square(3))"
   ]
  },
  {
   "cell_type": "markdown",
   "metadata": {},
   "source": [
    "### Exercise 14: Function with Default Parameters\n",
    "\n",
    "- Write a function called multiply that takes two parameters, a and b, and returns their product. Set a default value of 1 for the parameter b.\n",
    "- Test the function with and without providing the second argument.\n"
   ]
  },
  {
   "cell_type": "code",
   "execution_count": 41,
   "metadata": {},
   "outputs": [
    {
     "name": "stdout",
     "output_type": "stream",
     "text": [
      "6\n",
      "3\n"
     ]
    }
   ],
   "source": [
    "def multiply(a, b=1):\n",
    "    return a * b\n",
    "\n",
    "\n",
    "print(multiply(3, 2))\n",
    "print(multiply(3))"
   ]
  },
  {
   "cell_type": "markdown",
   "metadata": {},
   "source": [
    "### Exercise 15: List Comprehension\n",
    "\n",
    "- Create a list of numbers from 1 to 10.\n",
    "- Use list comprehension to create a new list that contains the squares of these numbers.\n",
    "- Print the new list.\n"
   ]
  },
  {
   "cell_type": "code",
   "execution_count": 42,
   "metadata": {},
   "outputs": [
    {
     "name": "stdout",
     "output_type": "stream",
     "text": [
      "[1, 4, 9, 16, 25, 36, 49, 64, 81, 100]\n"
     ]
    }
   ],
   "source": [
    "numbers = list(range(1, 11))\n",
    "\n",
    "squares = [number ** 2 for number in numbers]\n",
    "\n",
    "print(squares)"
   ]
  },
  {
   "cell_type": "markdown",
   "metadata": {},
   "source": [
    "### Exercise 16: Nested Data Structures\n",
    "\n",
    "- Create a dictionary where the keys are names of students and the values are lists of their grades.\n",
    "- Write a function that takes the dictionary and prints the average grade for each student.\n"
   ]
  },
  {
   "cell_type": "code",
   "execution_count": 43,
   "metadata": {},
   "outputs": [
    {
     "name": "stdout",
     "output_type": "stream",
     "text": [
      "Larry: 95.0\n",
      "Jeff: 20.0\n",
      "Cheryl: 50.0\n",
      "Suzie: 80.0\n",
      "Leon: 100.0\n"
     ]
    }
   ],
   "source": [
    "students = {\n",
    "    'Larry': [100, 95, 90],\n",
    "    'Jeff': [10, 20, 30],\n",
    "    'Cheryl': [40, 50, 60],\n",
    "    'Suzie': [70, 80, 90],\n",
    "    'Leon': [100, 100, 100],\n",
    "}\n",
    "\n",
    "\n",
    "def print_avg_grades(students):\n",
    "    for student, grades in students.items():\n",
    "        avg = sum(grades) / len(grades)\n",
    "        print(f'{student}: {avg}')\n",
    "\n",
    "\n",
    "print_avg_grades(students)"
   ]
  },
  {
   "cell_type": "markdown",
   "metadata": {},
   "source": [
    "### Exercise 17: Simple Calculator\n",
    "\n",
    "- Write a program that:\n",
    "  - Defines a function calculate which takes three parameters: two numbers and an operator (+, -, \\*, /).\n",
    "  - Performs the operation and returns the result.\n",
    "  - Ask the user for the two numbers and the operator, then call the function and print the result.\n"
   ]
  },
  {
   "cell_type": "code",
   "execution_count": 44,
   "metadata": {},
   "outputs": [
    {
     "name": "stdout",
     "output_type": "stream",
     "text": [
      "Number 1: 3.0\n",
      "Number 2: 2.0\n",
      "Operator: *\n",
      "Result: 6.0\n"
     ]
    }
   ],
   "source": [
    "def calculate(a, b, operator):\n",
    "    if operator == '+':\n",
    "        return a + b\n",
    "    elif operator == '-':\n",
    "        return a - b\n",
    "    elif operator == '*':\n",
    "        return a * b\n",
    "    elif operator == '/':\n",
    "        return a / b\n",
    "    else:\n",
    "        return 'Invalid operator'\n",
    "\n",
    "\n",
    "number_1 = float(input('Enter the first number: '))\n",
    "number_2 = float(input('Enter the second number: '))\n",
    "operator = input('Enter the operator (+, -, *, /): ')\n",
    "\n",
    "result = calculate(number_1, number_2, operator)\n",
    "\n",
    "\n",
    "print('Number 1:', number_1)\n",
    "print('Number 2:', number_2)\n",
    "print('Operator:', operator)\n",
    "print('Result:', result)"
   ]
  }
 ],
 "metadata": {
  "kernelspec": {
   "display_name": "Python 3",
   "language": "python",
   "name": "python3"
  },
  "language_info": {
   "codemirror_mode": {
    "name": "ipython",
    "version": 3
   },
   "file_extension": ".py",
   "mimetype": "text/x-python",
   "name": "python",
   "nbconvert_exporter": "python",
   "pygments_lexer": "ipython3",
   "version": "3.12.6"
  }
 },
 "nbformat": 4,
 "nbformat_minor": 2
}
