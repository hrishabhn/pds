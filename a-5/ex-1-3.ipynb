{
 "cells": [
  {
   "cell_type": "markdown",
   "metadata": {},
   "source": [
    "## Basic Libraries II\n",
    "\n",
    "### Exercise\n",
    "\n",
    "Reusing the same annotations we work with in the previous session, answer the following items using the libraries we saw today:\n",
    "\n",
    "1. How many annotations you have per month and year. Which month has more annotation files.\n",
    "2. Create a dictionary where each **key** is a month, and the corresponding **value** is a list containing all the annotation names with where their date corresponds to the month.\n",
    "   - Save it following the json format, and load it again to check that everything is ok.\n",
    "   - Save it this time using Pickle.\n",
    "   - Instead of storing a list of all the annotation names happening that month, let's create for each annotation a dictionary with keys: name and date (using a datetime object).\n",
    "3. Print all the annotations from the oldest ones to the newest one during the seconf half of the 2024.\n"
   ]
  },
  {
   "cell_type": "code",
   "execution_count": 1,
   "metadata": {},
   "outputs": [],
   "source": [
    "# This cell is copied from the previous assignment.\n",
    "\n",
    "import pandas as pd\n",
    "import os\n",
    "from datetime import datetime\n",
    "\n",
    "\n",
    "class AnnotationFile:\n",
    "    def __init__(self, file_name):\n",
    "        # file\n",
    "        self.file_name = file_name\n",
    "        file_name_parts = file_name.removesuffix('.txt').split('_')\n",
    "\n",
    "        # date and time\n",
    "        self.date = datetime.strptime(file_name_parts[0] + file_name_parts[1], '%Y%m%d%H%M%S')\n",
    "\n",
    "        # satelite number\n",
    "        self.satelite_number = file_name_parts[2][2:]\n",
    "\n",
    "        # version\n",
    "        self.version = '_'.join(file_name_parts[5:8])\n",
    "\n",
    "        # unique region\n",
    "        self.unique_region = '_'.join(file_name_parts[8:11])"
   ]
  },
  {
   "cell_type": "code",
   "execution_count": 2,
   "metadata": {},
   "outputs": [
    {
     "name": "stdout",
     "output_type": "stream",
     "text": [
      "Files grouped by year and month:\n"
     ]
    },
    {
     "data": {
      "text/html": [
       "<div>\n",
       "<style scoped>\n",
       "    .dataframe tbody tr th:only-of-type {\n",
       "        vertical-align: middle;\n",
       "    }\n",
       "\n",
       "    .dataframe tbody tr th {\n",
       "        vertical-align: top;\n",
       "    }\n",
       "\n",
       "    .dataframe thead th {\n",
       "        text-align: right;\n",
       "    }\n",
       "</style>\n",
       "<table border=\"1\" class=\"dataframe\">\n",
       "  <thead>\n",
       "    <tr style=\"text-align: right;\">\n",
       "      <th></th>\n",
       "      <th>year_month</th>\n",
       "      <th>count</th>\n",
       "    </tr>\n",
       "  </thead>\n",
       "  <tbody>\n",
       "    <tr>\n",
       "      <th>0</th>\n",
       "      <td>2024-01</td>\n",
       "      <td>27</td>\n",
       "    </tr>\n",
       "    <tr>\n",
       "      <th>1</th>\n",
       "      <td>2024-02</td>\n",
       "      <td>45</td>\n",
       "    </tr>\n",
       "    <tr>\n",
       "      <th>2</th>\n",
       "      <td>2024-03</td>\n",
       "      <td>17</td>\n",
       "    </tr>\n",
       "    <tr>\n",
       "      <th>3</th>\n",
       "      <td>2024-04</td>\n",
       "      <td>25</td>\n",
       "    </tr>\n",
       "    <tr>\n",
       "      <th>4</th>\n",
       "      <td>2024-05</td>\n",
       "      <td>28</td>\n",
       "    </tr>\n",
       "    <tr>\n",
       "      <th>5</th>\n",
       "      <td>2024-06</td>\n",
       "      <td>52</td>\n",
       "    </tr>\n",
       "  </tbody>\n",
       "</table>\n",
       "</div>"
      ],
      "text/plain": [
       "  year_month  count\n",
       "0    2024-01     27\n",
       "1    2024-02     45\n",
       "2    2024-03     17\n",
       "3    2024-04     25\n",
       "4    2024-05     28\n",
       "5    2024-06     52"
      ]
     },
     "metadata": {},
     "output_type": "display_data"
    },
    {
     "name": "stdout",
     "output_type": "stream",
     "text": [
      "Most files in a month: 52\n",
      "Month: 2024-06\n"
     ]
    }
   ],
   "source": [
    "# Exercise 1\n",
    "# This code is copied from Exercises 1-3 of the previous assignment.\n",
    "\n",
    "# get all files\n",
    "file_names = os.listdir('../a-4/annotations')\n",
    "\n",
    "\n",
    "# validation function\n",
    "def is_valid_file_name(file_name):\n",
    "    # check if file is a txt file\n",
    "    if not file_name.endswith('.txt'):\n",
    "        return False\n",
    "\n",
    "    # check if file has 11 parts\n",
    "    if not len(file_name.split('_')) == 11:\n",
    "        return False\n",
    "\n",
    "    return True\n",
    "\n",
    "\n",
    "# filter valid files\n",
    "valid_file_names = [f for f in file_names if is_valid_file_name(f)]\n",
    "\n",
    "# create class instances\n",
    "files = [AnnotationFile(f) for f in valid_file_names]\n",
    "files_df = pd.DataFrame([f.__dict__ for f in files]).sort_values(by='date', ascending=False, ignore_index=True)\n",
    "\n",
    "\n",
    "# add year_month column\n",
    "files_df['year_month'] = files_df['date'].dt.to_period('M')\n",
    "\n",
    "# group by year_month\n",
    "year_month_df = files_df.groupby('year_month').size().reset_index(name='count')\n",
    "print('Files grouped by year and month:')\n",
    "display(year_month_df)\n",
    "\n",
    "# get max\n",
    "idmax = year_month_df['count'].idxmax()\n",
    "print(f'Most files in a month: {year_month_df.iloc[idmax][\"count\"]}')\n",
    "print(f'Month: {year_month_df.iloc[idmax][\"year_month\"]}')"
   ]
  },
  {
   "cell_type": "markdown",
   "metadata": {},
   "source": []
  },
  {
   "cell_type": "code",
   "execution_count": 3,
   "metadata": {},
   "outputs": [],
   "source": [
    "# Exercise 2\n",
    "\n",
    "import json\n",
    "import pickle\n",
    "\n",
    "# create dictionary\n",
    "month_dict = {}\n",
    "for i, file in files_df.iterrows():\n",
    "    # get year_month\n",
    "    year_month = file['year_month'].__str__()\n",
    "\n",
    "    # add to dictionary\n",
    "    if not year_month in month_dict:\n",
    "        month_dict[year_month] = []\n",
    "\n",
    "    # add file name\n",
    "    month_dict[file['year_month'].__str__()].append(file['file_name'])\n",
    "\n",
    "# save to json\n",
    "with open('month_dict.json', 'w') as f:\n",
    "    json.dump(month_dict, f, indent=4)\n",
    "\n",
    "# load from json\n",
    "with open('month_dict.json', 'r') as f:\n",
    "    month_dict = json.load(f)\n",
    "\n",
    "\n",
    "# reset month_dict\n",
    "month_dict = {}\n",
    "for i, file in files_df.iterrows():\n",
    "    # get year_month\n",
    "    year_month = file['year_month'].__str__()\n",
    "\n",
    "    # add to dictionary\n",
    "    if not year_month in month_dict:\n",
    "        month_dict[year_month] = []\n",
    "\n",
    "    # add file name\n",
    "    month_dict[file['year_month'].__str__()].append({'name': file['file_name'], 'date': file['date']})\n",
    "\n",
    "# save to pickle\n",
    "with open('month_dict.pkl', 'wb') as f:\n",
    "    pickle.dump(month_dict, f)"
   ]
  },
  {
   "cell_type": "code",
   "execution_count": 4,
   "metadata": {},
   "outputs": [
    {
     "name": "stdout",
     "output_type": "stream",
     "text": [
      "Files in order from oldest to newest in second half of 2024:\n"
     ]
    }
   ],
   "source": [
    "# Exercise 3\n",
    "\n",
    "print('Files in order from oldest to newest in second half of 2024:')\n",
    "\n",
    "start_date = datetime(2024, 7, 1)\n",
    "end_date = datetime(2024, 12, 31)\n",
    "\n",
    "for i, file in files_df.sort_values(by='date', ascending=True, ignore_index=True).iterrows():\n",
    "    if start_date <= file['date'] <= end_date:\n",
    "        print(file[\"file_name\"])"
   ]
  }
 ],
 "metadata": {
  "kernelspec": {
   "display_name": "Python 3",
   "language": "python",
   "name": "python3"
  },
  "language_info": {
   "codemirror_mode": {
    "name": "ipython",
    "version": 3
   },
   "file_extension": ".py",
   "mimetype": "text/x-python",
   "name": "python",
   "nbconvert_exporter": "python",
   "pygments_lexer": "ipython3",
   "version": "3.9.6"
  }
 },
 "nbformat": 4,
 "nbformat_minor": 2
}
