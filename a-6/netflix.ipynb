{
 "cells": [
  {
   "cell_type": "markdown",
   "metadata": {},
   "source": [
    "## Pandas I\n",
    "\n",
    "Home exercises for Netflix:\n",
    "\n",
    "1. Is there any missing rating?\n",
    "2. How many films in 2021 correspond to your country?\n",
    "3. What's the number of movies in 2020 with full information?\n",
    "4. Give me the year with more titles,\n",
    "5. and what has been the average in terms of releases from 2010.\n"
   ]
  },
  {
   "cell_type": "code",
   "execution_count": 29,
   "metadata": {},
   "outputs": [],
   "source": [
    "import pandas as pd\n",
    "df = pd.read_csv('netflix_titles.csv')"
   ]
  },
  {
   "cell_type": "code",
   "execution_count": 30,
   "metadata": {},
   "outputs": [
    {
     "data": {
      "text/html": [
       "<div>\n",
       "<style scoped>\n",
       "    .dataframe tbody tr th:only-of-type {\n",
       "        vertical-align: middle;\n",
       "    }\n",
       "\n",
       "    .dataframe tbody tr th {\n",
       "        vertical-align: top;\n",
       "    }\n",
       "\n",
       "    .dataframe thead th {\n",
       "        text-align: right;\n",
       "    }\n",
       "</style>\n",
       "<table border=\"1\" class=\"dataframe\">\n",
       "  <thead>\n",
       "    <tr style=\"text-align: right;\">\n",
       "      <th></th>\n",
       "      <th>show_id</th>\n",
       "      <th>type</th>\n",
       "      <th>title</th>\n",
       "      <th>director</th>\n",
       "      <th>cast</th>\n",
       "      <th>country</th>\n",
       "      <th>date_added</th>\n",
       "      <th>release_year</th>\n",
       "      <th>rating</th>\n",
       "      <th>duration</th>\n",
       "      <th>listed_in</th>\n",
       "      <th>description</th>\n",
       "    </tr>\n",
       "  </thead>\n",
       "  <tbody>\n",
       "    <tr>\n",
       "      <th>5989</th>\n",
       "      <td>s5990</td>\n",
       "      <td>Movie</td>\n",
       "      <td>13TH: A Conversation with Oprah Winfrey &amp; Ava ...</td>\n",
       "      <td>NaN</td>\n",
       "      <td>Oprah Winfrey, Ava DuVernay</td>\n",
       "      <td>NaN</td>\n",
       "      <td>January 26, 2017</td>\n",
       "      <td>2017</td>\n",
       "      <td>NaN</td>\n",
       "      <td>37 min</td>\n",
       "      <td>Movies</td>\n",
       "      <td>Oprah Winfrey sits down with director Ava DuVe...</td>\n",
       "    </tr>\n",
       "    <tr>\n",
       "      <th>6827</th>\n",
       "      <td>s6828</td>\n",
       "      <td>TV Show</td>\n",
       "      <td>Gargantia on the Verdurous Planet</td>\n",
       "      <td>NaN</td>\n",
       "      <td>Kaito Ishikawa, Hisako Kanemoto, Ai Kayano, Ka...</td>\n",
       "      <td>Japan</td>\n",
       "      <td>December 1, 2016</td>\n",
       "      <td>2013</td>\n",
       "      <td>NaN</td>\n",
       "      <td>1 Season</td>\n",
       "      <td>Anime Series, International TV Shows</td>\n",
       "      <td>After falling through a wormhole, a space-dwel...</td>\n",
       "    </tr>\n",
       "    <tr>\n",
       "      <th>7312</th>\n",
       "      <td>s7313</td>\n",
       "      <td>TV Show</td>\n",
       "      <td>Little Lunch</td>\n",
       "      <td>NaN</td>\n",
       "      <td>Flynn Curry, Olivia Deeble, Madison Lu, Oisín ...</td>\n",
       "      <td>Australia</td>\n",
       "      <td>February 1, 2018</td>\n",
       "      <td>2015</td>\n",
       "      <td>NaN</td>\n",
       "      <td>1 Season</td>\n",
       "      <td>Kids' TV, TV Comedies</td>\n",
       "      <td>Adopting a child's perspective, this show take...</td>\n",
       "    </tr>\n",
       "    <tr>\n",
       "      <th>7537</th>\n",
       "      <td>s7538</td>\n",
       "      <td>Movie</td>\n",
       "      <td>My Honor Was Loyalty</td>\n",
       "      <td>Alessandro Pepe</td>\n",
       "      <td>Leone Frisa, Paolo Vaccarino, Francesco Miglio...</td>\n",
       "      <td>Italy</td>\n",
       "      <td>March 1, 2017</td>\n",
       "      <td>2015</td>\n",
       "      <td>NaN</td>\n",
       "      <td>115 min</td>\n",
       "      <td>Dramas</td>\n",
       "      <td>Amid the chaos and horror of World War II, a c...</td>\n",
       "    </tr>\n",
       "  </tbody>\n",
       "</table>\n",
       "</div>"
      ],
      "text/plain": [
       "     show_id     type                                              title  \\\n",
       "5989   s5990    Movie  13TH: A Conversation with Oprah Winfrey & Ava ...   \n",
       "6827   s6828  TV Show                  Gargantia on the Verdurous Planet   \n",
       "7312   s7313  TV Show                                       Little Lunch   \n",
       "7537   s7538    Movie                               My Honor Was Loyalty   \n",
       "\n",
       "             director                                               cast  \\\n",
       "5989              NaN                        Oprah Winfrey, Ava DuVernay   \n",
       "6827              NaN  Kaito Ishikawa, Hisako Kanemoto, Ai Kayano, Ka...   \n",
       "7312              NaN  Flynn Curry, Olivia Deeble, Madison Lu, Oisín ...   \n",
       "7537  Alessandro Pepe  Leone Frisa, Paolo Vaccarino, Francesco Miglio...   \n",
       "\n",
       "        country        date_added  release_year rating  duration  \\\n",
       "5989        NaN  January 26, 2017          2017    NaN    37 min   \n",
       "6827      Japan  December 1, 2016          2013    NaN  1 Season   \n",
       "7312  Australia  February 1, 2018          2015    NaN  1 Season   \n",
       "7537      Italy     March 1, 2017          2015    NaN   115 min   \n",
       "\n",
       "                                 listed_in  \\\n",
       "5989                                Movies   \n",
       "6827  Anime Series, International TV Shows   \n",
       "7312                 Kids' TV, TV Comedies   \n",
       "7537                                Dramas   \n",
       "\n",
       "                                            description  \n",
       "5989  Oprah Winfrey sits down with director Ava DuVe...  \n",
       "6827  After falling through a wormhole, a space-dwel...  \n",
       "7312  Adopting a child's perspective, this show take...  \n",
       "7537  Amid the chaos and horror of World War II, a c...  "
      ]
     },
     "metadata": {},
     "output_type": "display_data"
    }
   ],
   "source": [
    "# Exercise 1\n",
    "\n",
    "display(df[df['rating'].isna()])"
   ]
  },
  {
   "cell_type": "code",
   "execution_count": 31,
   "metadata": {},
   "outputs": [
    {
     "name": "stdout",
     "output_type": "stream",
     "text": [
      "35\n"
     ]
    }
   ],
   "source": [
    "# Exercise 2\n",
    "\n",
    "print(len(df[\n",
    "    (df['release_year'] == 2021) &\n",
    "    (df['country'].str.contains('India', na=False))\n",
    "]))"
   ]
  },
  {
   "cell_type": "code",
   "execution_count": 32,
   "metadata": {},
   "outputs": [
    {
     "name": "stdout",
     "output_type": "stream",
     "text": [
      "409\n"
     ]
    }
   ],
   "source": [
    "# Exercise 3\n",
    "\n",
    "print(len(df[\n",
    "    (df['type'] == 'Movie') &\n",
    "    (df['release_year'] == 2020)\n",
    "].dropna()))"
   ]
  },
  {
   "cell_type": "code",
   "execution_count": 33,
   "metadata": {},
   "outputs": [
    {
     "name": "stdout",
     "output_type": "stream",
     "text": [
      "2018\n"
     ]
    }
   ],
   "source": [
    "# Exercise 4\n",
    "\n",
    "print(df['release_year'].value_counts().idxmax())"
   ]
  },
  {
   "cell_type": "code",
   "execution_count": 34,
   "metadata": {},
   "outputs": [
    {
     "name": "stdout",
     "output_type": "stream",
     "text": [
      "622.6666666666666\n"
     ]
    }
   ],
   "source": [
    "# Exercise 5\n",
    "\n",
    "print(df[df['release_year'] >= 2010]['release_year'].value_counts().mean())"
   ]
  }
 ],
 "metadata": {
  "kernelspec": {
   "display_name": "Python 3",
   "language": "python",
   "name": "python3"
  },
  "language_info": {
   "codemirror_mode": {
    "name": "ipython",
    "version": 3
   },
   "file_extension": ".py",
   "mimetype": "text/x-python",
   "name": "python",
   "nbconvert_exporter": "python",
   "pygments_lexer": "ipython3",
   "version": "3.13.0"
  }
 },
 "nbformat": 4,
 "nbformat_minor": 2
}
