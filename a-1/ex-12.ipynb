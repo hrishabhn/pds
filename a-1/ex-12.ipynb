{
 "cells": [
  {
   "cell_type": "markdown",
   "metadata": {},
   "source": [
    "# Exercise 12: Define a Function\n",
    "\n",
    "- Write a function called greet that takes a name as an argument and prints `Hello, [name]!`.\n",
    "- Call the function with your own name.\n"
   ]
  },
  {
   "cell_type": "code",
   "execution_count": null,
   "metadata": {},
   "outputs": [
    {
     "name": "stdout",
     "output_type": "stream",
     "text": [
      "Hello, Hrishabh!\n"
     ]
    }
   ],
   "source": [
    "def greet(name):\n",
    "    print(f'Hello, {name}!')\n",
    "\n",
    "\n",
    "greet('Hrishabh')"
   ]
  }
 ],
 "metadata": {
  "language_info": {
   "name": "python"
  }
 },
 "nbformat": 4,
 "nbformat_minor": 2
}
