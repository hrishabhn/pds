{
 "cells": [
  {
   "cell_type": "markdown",
   "metadata": {},
   "source": [
    "# Exercise 7: Sets\n",
    "\n",
    "- Create a set called colors with the values: `red`, `green`, `blue`.\n",
    "- Add another color to the set.\n",
    "- Try adding a duplicate color and observe what happens.\n",
    "- Print the set and remove one color from it.\n",
    "- Create another set named `light_colors` and merge `colors` and `light_colors`.\n"
   ]
  },
  {
   "cell_type": "code",
   "execution_count": 1,
   "metadata": {},
   "outputs": [
    {
     "name": "stdout",
     "output_type": "stream",
     "text": [
      "Set: {'blue', 'red', 'yellow', 'green'}\n",
      "Updated Set: {'red', 'green', 'light_green', 'light_blue', 'blue', 'light_red'}\n"
     ]
    }
   ],
   "source": [
    "colors = {'red', 'green', 'blue'}\n",
    "colors.add('yellow')\n",
    "colors.add('red')\n",
    "\n",
    "print('Set:', colors)\n",
    "\n",
    "colors.remove('yellow')\n",
    "light_colors = {'light_red', 'light_green', 'light_blue'}\n",
    "colors.update(light_colors)\n",
    "\n",
    "print('Updated Set:', colors)"
   ]
  }
 ],
 "metadata": {
  "kernelspec": {
   "display_name": "Python 3",
   "language": "python",
   "name": "python3"
  },
  "language_info": {
   "codemirror_mode": {
    "name": "ipython",
    "version": 3
   },
   "file_extension": ".py",
   "mimetype": "text/x-python",
   "name": "python",
   "nbconvert_exporter": "python",
   "pygments_lexer": "ipython3",
   "version": "3.12.6"
  }
 },
 "nbformat": 4,
 "nbformat_minor": 2
}
