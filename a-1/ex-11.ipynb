{
 "cells": [
  {
   "cell_type": "markdown",
   "metadata": {},
   "source": [
    "# Exercise 11: Match Statement\n",
    "\n",
    "- Write a program that:\n",
    "  - Asks the user to input a grade (e.g., \"A\", \"B\", \"C\", \"D\", or \"F\").\n",
    "  - Use a `match` statement to print a corresponding message for each grade:\n",
    "    - \"A\": \"Excellent!\"\n",
    "    - \"B\": \"Good job!\"\n",
    "    - \"C\": \"Fair.\"\n",
    "    - \"D\": \"Needs improvement.\"\n",
    "    - \"F\": \"Failing.\"\n",
    "  - Handle invalid input by printing a default message.\n"
   ]
  },
  {
   "cell_type": "code",
   "execution_count": 1,
   "metadata": {},
   "outputs": [
    {
     "name": "stdout",
     "output_type": "stream",
     "text": [
      "Grade: A\n",
      "Excellent!\n"
     ]
    }
   ],
   "source": [
    "grades = {\n",
    "    'A': 'Excellent!',\n",
    "    'B': 'Good job!',\n",
    "    'C': 'Fair.',\n",
    "    'D': 'Needs improvement.',\n",
    "    'F': 'Failing.',\n",
    "}\n",
    "\n",
    "user_grade = input('Enter your grade: ')\n",
    "\n",
    "print('Grade:', user_grade)\n",
    "print(grades.get(user_grade, 'Invalid input!'))"
   ]
  }
 ],
 "metadata": {
  "kernelspec": {
   "display_name": "Python 3",
   "language": "python",
   "name": "python3"
  },
  "language_info": {
   "codemirror_mode": {
    "name": "ipython",
    "version": 3
   },
   "file_extension": ".py",
   "mimetype": "text/x-python",
   "name": "python",
   "nbconvert_exporter": "python",
   "pygments_lexer": "ipython3",
   "version": "3.12.6"
  }
 },
 "nbformat": 4,
 "nbformat_minor": 2
}
