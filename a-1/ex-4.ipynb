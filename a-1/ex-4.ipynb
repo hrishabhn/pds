{
 "cells": [
  {
   "cell_type": "markdown",
   "metadata": {},
   "source": [
    "# Exercise 4: Lists\n",
    "\n",
    "- Create a list called `universities` with at least five different university names.\n",
    "- Print the entire list.\n",
    "- Print the first and last university in the list.\n"
   ]
  },
  {
   "cell_type": "code",
   "execution_count": 1,
   "metadata": {},
   "outputs": [
    {
     "name": "stdout",
     "output_type": "stream",
     "text": [
      "All universities: ['ESADE', 'UAB', 'UIB', 'UOC', 'IE']\n",
      "First: ESADE\n",
      "Last: IE\n"
     ]
    }
   ],
   "source": [
    "universities = ['ESADE', 'UAB', 'UIB', 'UOC', 'IE']\n",
    "\n",
    "print('All universities:', universities)\n",
    "print('First:', universities[0])\n",
    "print('Last:', universities[-1])"
   ]
  }
 ],
 "metadata": {
  "kernelspec": {
   "display_name": "Python 3",
   "language": "python",
   "name": "python3"
  },
  "language_info": {
   "codemirror_mode": {
    "name": "ipython",
    "version": 3
   },
   "file_extension": ".py",
   "mimetype": "text/x-python",
   "name": "python",
   "nbconvert_exporter": "python",
   "pygments_lexer": "ipython3",
   "version": "3.12.6"
  }
 },
 "nbformat": 4,
 "nbformat_minor": 2
}
