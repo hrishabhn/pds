{
 "cells": [
  {
   "cell_type": "markdown",
   "metadata": {},
   "source": [
    "# Exercise 17: Simple Calculator\n",
    "\n",
    "- Write a program that:\n",
    "  - Defines a function `calculate` which takes three parameters: two numbers and an operator (+, -, \\*, /).\n",
    "  - Performs the operation and returns the result.\n",
    "  - Ask the user for the two numbers and the operator, then call the function and print the result.\n"
   ]
  },
  {
   "cell_type": "code",
   "execution_count": null,
   "metadata": {},
   "outputs": [
    {
     "name": "stdout",
     "output_type": "stream",
     "text": [
      "Number 1: 3.0\n",
      "Number 2: 2.0\n",
      "Operator: *\n",
      "Result: 6.0\n"
     ]
    }
   ],
   "source": [
    "def calculate(a, b, operator):\n",
    "    if operator == '+':\n",
    "        return a + b\n",
    "    elif operator == '-':\n",
    "        return a - b\n",
    "    elif operator == '*':\n",
    "        return a * b\n",
    "    elif operator == '/':\n",
    "        return a / b\n",
    "    else:\n",
    "        return 'Invalid operator'\n",
    "\n",
    "\n",
    "number_1 = float(input('Enter the first number: '))\n",
    "number_2 = float(input('Enter the second number: '))\n",
    "operator = input('Enter the operator (+, -, *, /): ')\n",
    "\n",
    "result = calculate(number_1, number_2, operator)\n",
    "\n",
    "\n",
    "print('Number 1:', number_1)\n",
    "print('Number 2:', number_2)\n",
    "print('Operator:', operator)\n",
    "print('Result:', result)"
   ]
  }
 ],
 "metadata": {
  "language_info": {
   "name": "python"
  }
 },
 "nbformat": 4,
 "nbformat_minor": 2
}
