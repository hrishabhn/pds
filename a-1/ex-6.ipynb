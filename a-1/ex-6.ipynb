{
 "cells": [
  {
   "cell_type": "markdown",
   "metadata": {},
   "source": [
    "# Exercise 6: Tuples\n",
    "\n",
    "- Define a tuple called `coordinates` with two values representing a point in 2D space (e.g., `(x, y)`).\n",
    "- Print the value of `coordinates` and access each element by its index.\n"
   ]
  },
  {
   "cell_type": "code",
   "execution_count": null,
   "metadata": {},
   "outputs": [
    {
     "name": "stdout",
     "output_type": "stream",
     "text": [
      "Coordinates: (3, 2)\n",
      "X: 3\n",
      "Y: 2\n"
     ]
    }
   ],
   "source": [
    "coordinates = (3, 2)\n",
    "\n",
    "print('Coordinates:', coordinates)\n",
    "print('X:', coordinates[0])\n",
    "print('Y:', coordinates[1])"
   ]
  }
 ],
 "metadata": {
  "language_info": {
   "name": "python"
  }
 },
 "nbformat": 4,
 "nbformat_minor": 2
}
