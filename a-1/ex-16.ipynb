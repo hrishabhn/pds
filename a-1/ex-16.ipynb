{
 "cells": [
  {
   "cell_type": "markdown",
   "metadata": {},
   "source": [
    "# Exercise 16: Nested Data Structures\n",
    "\n",
    "- Create a dictionary where the keys are names of students and the values are lists of their grades.\n",
    "- Write a function that takes the dictionary and prints the average grade for each student.\n"
   ]
  },
  {
   "cell_type": "code",
   "execution_count": null,
   "metadata": {},
   "outputs": [
    {
     "name": "stdout",
     "output_type": "stream",
     "text": [
      "Larry: 95.0\n",
      "Jeff: 20.0\n",
      "Cheryl: 50.0\n",
      "Suzie: 80.0\n",
      "Leon: 100.0\n"
     ]
    }
   ],
   "source": [
    "students = {\n",
    "    'Larry': [100, 95, 90],\n",
    "    'Jeff': [10, 20, 30],\n",
    "    'Cheryl': [40, 50, 60],\n",
    "    'Suzie': [70, 80, 90],\n",
    "    'Leon': [100, 100, 100],\n",
    "}\n",
    "\n",
    "\n",
    "def print_avg_grades(students):\n",
    "    for student, grades in students.items():\n",
    "        avg = sum(grades) / len(grades)\n",
    "        print(f'{student}: {avg}')\n",
    "\n",
    "\n",
    "print_avg_grades(students)"
   ]
  }
 ],
 "metadata": {
  "language_info": {
   "name": "python"
  }
 },
 "nbformat": 4,
 "nbformat_minor": 2
}
